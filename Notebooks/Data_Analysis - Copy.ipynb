{
 "cells": [
  {
   "cell_type": "markdown",
   "id": "b576b9dd-ca5c-445b-8d35-1d74dcdb81d8",
   "metadata": {},
   "source": [
    "## 1. Importing Libraries\n",
    "\n",
    "We start by importing essential Python libraries for data analysis and visualization.\n",
    "\n",
    "- `pandas` for handling datasets\n",
    "- `numpy` for numerical operations\n",
    "- `plotly` for interactive charts\n",
    "- `ipywidgets` for dropdowns and sliders (for interactivity in Jupyter)\n",
    "- `os` for file path management"
   ]
  },
  {
   "cell_type": "code",
   "execution_count": 1,
   "id": "2fb803e7-f73b-4d32-b658-47e514e8fe70",
   "metadata": {},
   "outputs": [],
   "source": [
    "# Import Libararies\n",
    "import pandas as pd\n",
    "import numpy as np\n",
    "import os\n",
    "import plotly.express as px\n",
    "from plotly.subplots import make_subplots\n",
    "import plotly.graph_objects as go\n",
    "import os"
   ]
  },
  {
   "cell_type": "markdown",
   "id": "577c1d49-847f-478b-86fa-6a7fe8f6ed55",
   "metadata": {},
   "source": [
    "## Define and Create Directory Paths\n",
    "\n",
    "To ensure reproducibility andorganized storage, we programmatically create directories for:\n",
    "\n",
    "- **raw data**\n",
    "- **processed data**\n",
    "- **results**\n",
    "- **documentation**\n",
    "\n",
    "These directories will store intermediate and final outputs for reproducibility.\n"
   ]
  },
  {
   "cell_type": "code",
   "execution_count": 2,
   "id": "69339ebf-d2c8-4ae4-87b2-08719dbbee52",
   "metadata": {},
   "outputs": [],
   "source": [
    "# Get working directory\n",
    "current_dir= os.getcwd()\n",
    "# Go one directory up to the root directory\n",
    "project_root_dir= os.path.dirname(current_dir)\n",
    "project_root_dir\n",
    "# Define paths to docs folder\n",
    "data_dir= os.path.join(project_root_dir,'Data')\n",
    "raw_dir= os.path.join(data_dir,'Raw')\n",
    "processed_dir=os.path.join(data_dir,'Processed')\n",
    "results_dir=os.path.join(project_root_dir,'Results')\n",
    "docs_dir=os.path.join(project_root_dir,'Docs')\n",
    "notebook_dir= os.path.join(project_root_dir,'Notebooks')"
   ]
  },
  {
   "cell_type": "markdown",
   "id": "7a3c9eab-40dc-425d-a781-bd1de996cb22",
   "metadata": {},
   "source": [
    "## 2. Loading and Exploring the Dataset\n",
    "\n",
    "We load the cleaned aircrash dataset from the Notebooks directory and inspect the first few rows.\n",
    "\n",
    "The dataset includes:\n",
    "- Year, month, day\n",
    "- Location and country\n",
    "- Aircraft type and manufacturer\n",
    "- Operator type\n",
    "- Number of people aboard, fatalities (in air and on ground)\n"
   ]
  },
  {
   "cell_type": "code",
   "execution_count": 3,
   "id": "5bd46ee0-23c7-4645-b436-e17e44f5d2ce",
   "metadata": {},
   "outputs": [
    {
     "data": {
      "text/html": [
       "<div>\n",
       "<style scoped>\n",
       "    .dataframe tbody tr th:only-of-type {\n",
       "        vertical-align: middle;\n",
       "    }\n",
       "\n",
       "    .dataframe tbody tr th {\n",
       "        vertical-align: top;\n",
       "    }\n",
       "\n",
       "    .dataframe thead th {\n",
       "        text-align: right;\n",
       "    }\n",
       "</style>\n",
       "<table border=\"1\" class=\"dataframe\">\n",
       "  <thead>\n",
       "    <tr style=\"text-align: right;\">\n",
       "      <th></th>\n",
       "      <th>Year</th>\n",
       "      <th>Quarter</th>\n",
       "      <th>Month</th>\n",
       "      <th>Day</th>\n",
       "      <th>Country/Region</th>\n",
       "      <th>Aircraft Manufacturer</th>\n",
       "      <th>Aircraft</th>\n",
       "      <th>Location</th>\n",
       "      <th>Operator</th>\n",
       "      <th>Sum of Ground</th>\n",
       "      <th>Sum of Fatalities (air)</th>\n",
       "      <th>Sum of Aboard</th>\n",
       "      <th>Month_num</th>\n",
       "      <th>Date</th>\n",
       "    </tr>\n",
       "  </thead>\n",
       "  <tbody>\n",
       "    <tr>\n",
       "      <th>0</th>\n",
       "      <td>1908</td>\n",
       "      <td>Qtr 3</td>\n",
       "      <td>September</td>\n",
       "      <td>17</td>\n",
       "      <td>United States</td>\n",
       "      <td>Wright</td>\n",
       "      <td>Wright Flyer III</td>\n",
       "      <td>virginia</td>\n",
       "      <td>Army U.S. - Military</td>\n",
       "      <td>0</td>\n",
       "      <td>1</td>\n",
       "      <td>2</td>\n",
       "      <td>9</td>\n",
       "      <td>1908-09-17</td>\n",
       "    </tr>\n",
       "    <tr>\n",
       "      <th>1</th>\n",
       "      <td>1909</td>\n",
       "      <td>Qtr 3</td>\n",
       "      <td>September</td>\n",
       "      <td>7</td>\n",
       "      <td>France</td>\n",
       "      <td>Wright</td>\n",
       "      <td>Wright ByplaneSC1</td>\n",
       "      <td>france</td>\n",
       "      <td>Unknown</td>\n",
       "      <td>0</td>\n",
       "      <td>1</td>\n",
       "      <td>1</td>\n",
       "      <td>9</td>\n",
       "      <td>1909-09-07</td>\n",
       "    </tr>\n",
       "    <tr>\n",
       "      <th>2</th>\n",
       "      <td>1912</td>\n",
       "      <td>Qtr 3</td>\n",
       "      <td>July</td>\n",
       "      <td>12</td>\n",
       "      <td>Unknown</td>\n",
       "      <td>Unknown</td>\n",
       "      <td>Dirigible</td>\n",
       "      <td>atlantic</td>\n",
       "      <td>Navy U.S. - JerseyMilitary</td>\n",
       "      <td>0</td>\n",
       "      <td>5</td>\n",
       "      <td>5</td>\n",
       "      <td>7</td>\n",
       "      <td>1912-07-12</td>\n",
       "    </tr>\n",
       "    <tr>\n",
       "      <th>3</th>\n",
       "      <td>1913</td>\n",
       "      <td>Qtr 3</td>\n",
       "      <td>August</td>\n",
       "      <td>6</td>\n",
       "      <td>United Kingdom</td>\n",
       "      <td>Curtiss</td>\n",
       "      <td>Curtiss seaplane</td>\n",
       "      <td>victoria british</td>\n",
       "      <td>Canada          Columbia Private</td>\n",
       "      <td>0</td>\n",
       "      <td>1</td>\n",
       "      <td>1</td>\n",
       "      <td>8</td>\n",
       "      <td>1913-08-06</td>\n",
       "    </tr>\n",
       "    <tr>\n",
       "      <th>4</th>\n",
       "      <td>1913</td>\n",
       "      <td>Qtr 3</td>\n",
       "      <td>September</td>\n",
       "      <td>9</td>\n",
       "      <td>Unknown</td>\n",
       "      <td>Zeppelin</td>\n",
       "      <td>Zeppelin L 1 (airship)</td>\n",
       "      <td>over the north seamilitary - german navy</td>\n",
       "      <td>Unknown</td>\n",
       "      <td>0</td>\n",
       "      <td>14</td>\n",
       "      <td>20</td>\n",
       "      <td>9</td>\n",
       "      <td>1913-09-09</td>\n",
       "    </tr>\n",
       "  </tbody>\n",
       "</table>\n",
       "</div>"
      ],
      "text/plain": [
       "   Year Quarter      Month  Day  Country/Region Aircraft Manufacturer  \\\n",
       "0  1908   Qtr 3  September   17   United States                Wright   \n",
       "1  1909   Qtr 3  September    7          France                Wright   \n",
       "2  1912   Qtr 3       July   12         Unknown               Unknown   \n",
       "3  1913   Qtr 3     August    6  United Kingdom               Curtiss   \n",
       "4  1913   Qtr 3  September    9         Unknown              Zeppelin   \n",
       "\n",
       "                 Aircraft                                  Location  \\\n",
       "0        Wright Flyer III                                  virginia   \n",
       "1       Wright ByplaneSC1                                    france   \n",
       "2               Dirigible                                  atlantic   \n",
       "3        Curtiss seaplane                          victoria british   \n",
       "4  Zeppelin L 1 (airship)  over the north seamilitary - german navy   \n",
       "\n",
       "                           Operator  Sum of Ground  Sum of Fatalities (air)  \\\n",
       "0              Army U.S. - Military              0                        1   \n",
       "1                           Unknown              0                        1   \n",
       "2        Navy U.S. - JerseyMilitary              0                        5   \n",
       "3  Canada          Columbia Private              0                        1   \n",
       "4                           Unknown              0                       14   \n",
       "\n",
       "   Sum of Aboard  Month_num        Date  \n",
       "0              2          9  1908-09-17  \n",
       "1              1          9  1909-09-07  \n",
       "2              5          7  1912-07-12  \n",
       "3              1          8  1913-08-06  \n",
       "4             20          9  1913-09-09  "
      ]
     },
     "execution_count": 3,
     "metadata": {},
     "output_type": "execute_result"
    }
   ],
   "source": [
    "aircrash_data_filename= os.path.join(processed_dir,\"Aircrash_file.csv\")\n",
    "df= pd.read_csv(aircrash_data_filename, na_values='?', skipinitialspace=True)\n",
    "df.head()"
   ]
  },
  {
   "cell_type": "markdown",
   "id": "172125b2-dfba-4568-ab46-f223c3a14923",
   "metadata": {},
   "source": [
    "This cell loads the `Aircrash_file.csv` (presumably the cleaned dataset from your previous notebook) into a pandas DataFrame named `df`.\n",
    "- `os.path.join(processed_dir, \"Aircrash_file.csv\")`: Constructs the full file path to the CSV file located in the `processed` data directory.\n",
    "- `na_values='?'`: Specifies that `?` characters in the dataset should be treated as `NaN` (Not a Number) or missing values during import.\n",
    "- `skipinitialspace=True`: This argument helps in cleaning string columns by removing initial spaces after delimiters.\n",
    "- `df.head()`: Displays the first 5 rows of the DataFrame, providing an initial overview of the loaded data, including the columns and a sample of their values."
   ]
  },
  {
   "cell_type": "code",
   "execution_count": 4,
   "id": "5664a5fc-94bc-42fc-ba4a-ae8ab4d2f7e1",
   "metadata": {},
   "outputs": [
    {
     "data": {
      "text/plain": [
       "(5030, 14)"
      ]
     },
     "execution_count": 4,
     "metadata": {},
     "output_type": "execute_result"
    }
   ],
   "source": [
    "df.shape"
   ]
  },
  {
   "cell_type": "markdown",
   "id": "b96d0793-d52b-4479-a581-050cd64755a2",
   "metadata": {},
   "source": [
    "This cell displays the shape of the DataFrame `df`, which returns a tuple representing the number of rows and columns. This is a quick way to verify the dimensions of the loaded dataset. The output `(5030, 14)` indicates that the DataFrame has 5030 rows (representing individual air crash incidents) and 14 columns (representing different attributes of each incident)."
   ]
  },
  {
   "cell_type": "markdown",
   "id": "894bcc42-289a-4590-adf3-6bd1338e4e60",
   "metadata": {},
   "source": [
    "**Cell Explanation:**\n",
    "This cell calculates key summary statistics and then visualizes them using Plotly `go.Indicator` objects, creating a dashboard-like overview of the dataset.\n",
    "\n",
    "**Calculations:**\n",
    "- `aircrafts = df['Aircraft'].nunique()`: Counts the number of unique aircraft types involved in crashes.\n",
    "- `crashes = len(df)`: Determines the total number of recorded crashes.\n",
    "- `countries = df['Country/Region'].nunique()`: Identifies the number of distinct countries/regions where crashes occurred.\n",
    "- `fatalities_air = df['Sum of Fatalities (air)'].sum()`: Calculates the total number of fatalities in the air across all crashes.\n",
    "- `fatalities_ground = df['Sum of Ground'].sum()`: Calculates the total number of fatalities on the ground across all crashes.\n",
    "- `aboard_total = df['Sum of Aboard'].sum()`: Sums the total number of people who were aboard the aircraft across all crashes.\n",
    "- `aboard_avg = df['Sum of Aboard'].mean()`: Computes the average number of people aboard per crash.\n",
    "\n",
    "**Plotly Visualization (`make_subplots` and `go.Indicator`):**\n",
    "- `make_subplots`: Creates a 2x3 grid for the indicators.\n",
    "- `go.Indicator`: Each `add_trace` line adds a new indicator.\n",
    "    - **Row 1, Col 1: Total Fatalities (Air)**: Shows the cumulative number of air fatalities.\n",
    "    - **Row 1, Col 2: Total Fatalities (Ground)**: Shows the cumulative number of ground fatalities.\n",
    "    - **Row 1, Col 3: Total Crashes**: Displays the total count of crash incidents.\n",
    "    - **Row 2, Col 1: Unique Aircrafts**: Shows the variety of aircraft involved.\n",
    "    - **Row 2, Col 2: Countries Involved**: Indicates the global spread of the incidents.\n",
    "    - **Row 2, Col 3: Avg Aboard per Crash**: Provides the average number of people on board for each crash.\n",
    "\n",
    "**Layout Updates:**\n",
    "- `height=400`, `width=1000`: Sets the dimensions of the figure.\n",
    "- `template='presentation'`: Applies a clean, presentable theme.\n",
    "- `paper_bgcolor`, `plot_bgcolor`: Sets transparent backgrounds for better integration.\n",
    "\n",
    "**Interpretation of the Graph:**\n",
    "The dashboard provides a quick summary of the air crash dataset:\n",
    "- There have been **111,784 total fatalities in the air** and **8,483 on the ground**, indicating that the vast majority of fatalities occur in-flight.\n",
    "- A total of **5,008 crashes** have been recorded.\n",
    "- These crashes involved **3,494 unique aircraft types** and occurred across **60 countries**.\n",
    "- On average, approximately **31.15 people were aboard** each crashed aircraft.\n",
    "This snapshot helps in understanding the scale and key statistics of air incidents.\n",
    "\n",
    "**Saving the Figure:**\n",
    "The graph is saved in three formats: JPG, PNG, and HTML, to the `results_dir` for easy sharing and further use."
   ]
  },
  {
   "cell_type": "code",
   "execution_count": 5,
   "id": "2712e23c-1f4a-472f-85db-f3d95ca5eaa5",
   "metadata": {},
   "outputs": [
    {
     "data": {
      "application/vnd.plotly.v1+json": {
       "config": {
        "plotlyServerURL": "https://plot.ly"
       },
       "data": [
        {
         "domain": {
          "x": [
           0,
           0.2888888888888889
          ],
          "y": [
           0.5565217391304348,
           1
          ]
         },
         "mode": "number",
         "title": {
          "text": "Total Fatalities (Air)"
         },
         "type": "indicator",
         "value": 111857
        },
        {
         "domain": {
          "x": [
           0.35555555555555557,
           0.6444444444444445
          ],
          "y": [
           0.5565217391304348,
           1
          ]
         },
         "mode": "number",
         "title": {
          "text": "Total Fatalities (Ground)"
         },
         "type": "indicator",
         "value": 8582
        },
        {
         "domain": {
          "x": [
           0.7111111111111111,
           1
          ],
          "y": [
           0.5565217391304348,
           1
          ]
         },
         "mode": "number",
         "title": {
          "text": "Total Crashes"
         },
         "type": "indicator",
         "value": 5030
        },
        {
         "domain": {
          "x": [
           0,
           0.2888888888888889
          ],
          "y": [
           0,
           0.4065217391304348
          ]
         },
         "mode": "number",
         "title": {
          "text": "Unique Aircrafts"
         },
         "type": "indicator",
         "value": 3510
        },
        {
         "domain": {
          "x": [
           0.35555555555555557,
           0.6444444444444445
          ],
          "y": [
           0,
           0.4065217391304348
          ]
         },
         "mode": "number",
         "title": {
          "text": "Countries Involved"
         },
         "type": "indicator",
         "value": 60
        },
        {
         "domain": {
          "x": [
           0.7111111111111111,
           1
          ],
          "y": [
           0,
           0.4065217391304348
          ]
         },
         "mode": "number",
         "title": {
          "text": "Total Aboard"
         },
         "type": "indicator",
         "value": 155998
        }
       ],
       "layout": {
        "height": 400,
        "paper_bgcolor": "rgba(0, 0, 0, 0)",
        "plot_bgcolor": "rgba(0, 0, 0, 0)",
        "template": {
         "data": {
          "pie": [
           {
            "automargin": true,
            "type": "pie"
           }
          ],
          "scatter": [
           {
            "line": {
             "width": 3
            },
            "marker": {
             "size": 9
            },
            "type": "scatter"
           }
          ],
          "scatter3d": [
           {
            "line": {
             "width": 3
            },
            "marker": {
             "size": 9
            },
            "type": "scatter3d"
           }
          ],
          "scattergeo": [
           {
            "line": {
             "width": 3
            },
            "marker": {
             "size": 9
            },
            "type": "scattergeo"
           }
          ],
          "scattergl": [
           {
            "line": {
             "width": 3
            },
            "marker": {
             "size": 9
            },
            "type": "scattergl"
           }
          ],
          "scatterpolar": [
           {
            "line": {
             "width": 3
            },
            "marker": {
             "size": 9
            },
            "type": "scatterpolar"
           }
          ],
          "scatterpolargl": [
           {
            "line": {
             "width": 3
            },
            "marker": {
             "size": 9
            },
            "type": "scatterpolargl"
           }
          ],
          "scatterternary": [
           {
            "line": {
             "width": 3
            },
            "marker": {
             "size": 9
            },
            "type": "scatterternary"
           }
          ],
          "table": [
           {
            "cells": {
             "height": 30
            },
            "header": {
             "height": 36
            },
            "type": "table"
           }
          ]
         },
         "layout": {
          "font": {
           "size": 18
          },
          "xaxis": {
           "title": {
            "standoff": 15
           }
          },
          "yaxis": {
           "title": {
            "standoff": 15
           }
          }
         }
        },
        "width": 1000
       }
      },
      "image/png": "[encoded data removed]"
     },
     "metadata": {},
     "output_type": "display_data"
    },
    {
     "ename": "OSError",
     "evalue": "[Errno 28] No space left on device",
     "output_type": "error",
     "traceback": [
      "\u001b[1;31m---------------------------------------------------------------------------\u001b[0m",
      "\u001b[1;31mOSError\u001b[0m                                   Traceback (most recent call last)",
      "Cell \u001b[1;32mIn[5], line 53\u001b[0m\n\u001b[0;32m     50\u001b[0m fig\u001b[38;5;241m.\u001b[39mshow()\n\u001b[0;32m     52\u001b[0m \u001b[38;5;66;03m# Save\u001b[39;00m\n\u001b[1;32m---> 53\u001b[0m fig\u001b[38;5;241m.\u001b[39mwrite_image(os\u001b[38;5;241m.\u001b[39mpath\u001b[38;5;241m.\u001b[39mjoin(results_dir, \u001b[38;5;124m'\u001b[39m\u001b[38;5;124mTotal_Crashes.jpg\u001b[39m\u001b[38;5;124m'\u001b[39m))\n\u001b[0;32m     54\u001b[0m fig\u001b[38;5;241m.\u001b[39mwrite_image(os\u001b[38;5;241m.\u001b[39mpath\u001b[38;5;241m.\u001b[39mjoin(results_dir, \u001b[38;5;124m'\u001b[39m\u001b[38;5;124mTotal_Crashes.png\u001b[39m\u001b[38;5;124m'\u001b[39m))\n\u001b[0;32m     55\u001b[0m fig\u001b[38;5;241m.\u001b[39mwrite_html(os\u001b[38;5;241m.\u001b[39mpath\u001b[38;5;241m.\u001b[39mjoin(results_dir, \u001b[38;5;124m'\u001b[39m\u001b[38;5;124mTotal_Crashes.html\u001b[39m\u001b[38;5;124m'\u001b[39m))\n",
      "File \u001b[1;32m~\\anaconda3\\Lib\\site-packages\\plotly\\basedatatypes.py:3911\u001b[0m, in \u001b[0;36mBaseFigure.write_image\u001b[1;34m(self, *args, **kwargs)\u001b[0m\n\u001b[0;32m   3907\u001b[0m     \u001b[38;5;28;01mif\u001b[39;00m kwargs\u001b[38;5;241m.\u001b[39mget(\u001b[38;5;124m\"\u001b[39m\u001b[38;5;124mengine\u001b[39m\u001b[38;5;124m\"\u001b[39m, \u001b[38;5;28;01mNone\u001b[39;00m):\n\u001b[0;32m   3908\u001b[0m         warnings\u001b[38;5;241m.\u001b[39mwarn(\n\u001b[0;32m   3909\u001b[0m             ENGINE_PARAM_DEPRECATION_MSG, \u001b[38;5;167;01mDeprecationWarning\u001b[39;00m, stacklevel\u001b[38;5;241m=\u001b[39m\u001b[38;5;241m2\u001b[39m\n\u001b[0;32m   3910\u001b[0m         )\n\u001b[1;32m-> 3911\u001b[0m \u001b[38;5;28;01mreturn\u001b[39;00m pio\u001b[38;5;241m.\u001b[39mwrite_image(\u001b[38;5;28mself\u001b[39m, \u001b[38;5;241m*\u001b[39margs, \u001b[38;5;241m*\u001b[39m\u001b[38;5;241m*\u001b[39mkwargs)\n",
      "File \u001b[1;32m~\\anaconda3\\Lib\\site-packages\\plotly\\io\\_kaleido.py:536\u001b[0m, in \u001b[0;36mwrite_image\u001b[1;34m(fig, file, format, scale, width, height, validate, engine)\u001b[0m\n\u001b[0;32m    528\u001b[0m         \u001b[38;5;28;01mraise\u001b[39;00m \u001b[38;5;167;01mValueError\u001b[39;00m(\n\u001b[0;32m    529\u001b[0m             \u001b[38;5;124mf\u001b[39m\u001b[38;5;124m\"\"\"\u001b[39m\n\u001b[0;32m    530\u001b[0m \u001b[38;5;124mThe \u001b[39m\u001b[38;5;124m'\u001b[39m\u001b[38;5;124mfile\u001b[39m\u001b[38;5;124m'\u001b[39m\u001b[38;5;124m argument \u001b[39m\u001b[38;5;124m'\u001b[39m\u001b[38;5;132;01m{\u001b[39;00mfile\u001b[38;5;132;01m}\u001b[39;00m\u001b[38;5;124m'\u001b[39m\u001b[38;5;124m is not a string, pathlib.Path object, or file descriptor.\u001b[39m\n\u001b[0;32m    531\u001b[0m \u001b[38;5;124m\"\"\"\u001b[39m\n\u001b[0;32m    532\u001b[0m         )\n\u001b[0;32m    533\u001b[0m     \u001b[38;5;28;01melse\u001b[39;00m:\n\u001b[0;32m    534\u001b[0m         \u001b[38;5;66;03m# We previously succeeded in interpreting `file` as a pathlib object.\u001b[39;00m\n\u001b[0;32m    535\u001b[0m         \u001b[38;5;66;03m# Now we can use `write_bytes()`.\u001b[39;00m\n\u001b[1;32m--> 536\u001b[0m         path\u001b[38;5;241m.\u001b[39mwrite_bytes(img_data)\n",
      "File \u001b[1;32m~\\anaconda3\\Lib\\pathlib.py:1068\u001b[0m, in \u001b[0;36mPath.write_bytes\u001b[1;34m(self, data)\u001b[0m\n\u001b[0;32m   1066\u001b[0m view \u001b[38;5;241m=\u001b[39m \u001b[38;5;28mmemoryview\u001b[39m(data)\n\u001b[0;32m   1067\u001b[0m \u001b[38;5;28;01mwith\u001b[39;00m \u001b[38;5;28mself\u001b[39m\u001b[38;5;241m.\u001b[39mopen(mode\u001b[38;5;241m=\u001b[39m\u001b[38;5;124m'\u001b[39m\u001b[38;5;124mwb\u001b[39m\u001b[38;5;124m'\u001b[39m) \u001b[38;5;28;01mas\u001b[39;00m f:\n\u001b[1;32m-> 1068\u001b[0m     \u001b[38;5;28;01mreturn\u001b[39;00m f\u001b[38;5;241m.\u001b[39mwrite(view)\n",
      "\u001b[1;31mOSError\u001b[0m: [Errno 28] No space left on device"
     ]
    }
   ],
   "source": [
    "aircrafts = df['Aircraft'].nunique()\n",
    "crashes = len(df)\n",
    "countries = df['Country/Region'].nunique()\n",
    "fatalities_air = df['Sum of Fatalities (air)'].sum()\n",
    "fatalities_ground = df['Sum of Ground'].sum()\n",
    "aboard_total = df['Sum of Aboard'].sum()\n",
    "\n",
    "# 2 rows x 3 columns\n",
    "fig = make_subplots(rows=2, cols=3, specs=[[{'type': 'indicator'}]*3]*2, row_heights=[0.60, 0.55])\n",
    "\n",
    "fig.add_trace(go.Indicator(\n",
    "    mode=\"number\",\n",
    "    value=fatalities_air,\n",
    "    title={\"text\": \"Total Fatalities (Air)\"}), row=1, col=1)\n",
    "\n",
    "fig.add_trace(go.Indicator(\n",
    "    mode=\"number\",\n",
    "    value=fatalities_ground,\n",
    "    title={\"text\": \"Total Fatalities (Ground)\"}), row=1, col=2)\n",
    "\n",
    "fig.add_trace(go.Indicator(\n",
    "    mode=\"number\",\n",
    "    value=crashes,\n",
    "    title={\"text\": \"Total Crashes\"}), row=1, col=3)\n",
    "\n",
    "fig.add_trace(go.Indicator(\n",
    "    mode=\"number\",\n",
    "    value=aircrafts,\n",
    "    title={\"text\": \"Unique Aircrafts\"}), row=2, col=1)\n",
    "\n",
    "fig.add_trace(go.Indicator(\n",
    "    mode=\"number\",\n",
    "    value=countries,\n",
    "    title={\"text\": \"Countries Involved\"}), row=2, col=2)\n",
    "\n",
    "fig.add_trace(go.Indicator(\n",
    "    mode=\"number\",\n",
    "    value=aboard_total,\n",
    "    title={\"text\": \"Total Aboard\"}), row=2, col=3)\n",
    "\n",
    "\n",
    "fig.update_layout(\n",
    "    height=400,\n",
    "    width=1000,\n",
    "    template='presentation',\n",
    "    paper_bgcolor='rgba(0,0,0,0)',\n",
    "    plot_bgcolor='rgba(0,0,0,0)',\n",
    ")\n",
    "\n",
    "fig.show()\n",
    "\n",
    "# Save\n",
    "fig.write_image(os.path.join(results_dir, 'Total_Crashes.jpg'))\n",
    "fig.write_image(os.path.join(results_dir, 'Total_Crashes.png'))\n",
    "fig.write_html(os.path.join(results_dir, 'Total_Crashes.html'))\n"
   ]
  },
  {
   "cell_type": "markdown",
   "id": "7476039f-ddff-43d5-9e8e-c8f67d46bec1",
   "metadata": {},
   "source": [
    "## 4. Crashes Over Time\n",
    "\n",
    "We analyze the number of crashes per year to see trends in aircraft accidents over time.\n",
    "\n",
    "This helps us identify:\n",
    "- Periods with high crash rates (e.g., war or early aviation)\n",
    "- Declines in crashes as aviation technology improved"
   ]
  },
  {
   "cell_type": "code",
   "execution_count": null,
   "id": "55bb383d-a9e0-438a-ae10-c0b2ccab7f18",
   "metadata": {},
   "outputs": [],
   "source": [
    "def classify_operator(op):\n",
    "    if pd.isna(op) or op.strip().lower() in ['unknown', '', 'nan']:\n",
    "        return 'Unknown'\n",
    "    elif 'military' in op.lower() or 'army' in op.lower() or 'navy' in op.lower():\n",
    "        return 'Military'\n",
    "    else:\n",
    "        return 'Commercial'\n",
    "\n",
    "df['Operator Type'] = df['Operator'].apply(classify_operator)\n",
    "crashes_by_operator = df.groupby(['Year', 'Operator Type']).size().reset_index(name='Total Crashes')\n",
    "\n",
    "fig = px.bar(\n",
    "    crashes_by_operator,\n",
    "    x='Year',\n",
    "    y='Total Crashes',\n",
    "    color='Operator Type',\n",
    "    title='Crashes Over Time by Operator Type (Military vs Commercial vs Unknown)',\n",
    "    template='presentation',\n",
    "    height=600\n",
    ")\n",
    "\n",
    "fig.update_layout(\n",
    "    xaxis=dict(\n",
    "        title='Year',\n",
    "        rangeslider=dict(visible=True),\n",
    "        type='linear'\n",
    "    ),\n",
    "    yaxis_title='Total Crashes',\n",
    "    legend_title='Operator Type'\n",
    ")\n",
    "fig.update_layout(template = \"presentation\",xaxis_title=\"Year\",\n",
    "                  yaxis_title=\"Total Crashes\",\n",
    "                  legend_title=dict(text=\"Operator Type\"),\n",
    "                  xaxis_title_standoff=50,\n",
    "                  paper_bgcolor = \"rgba(0, 0, 0, 0)\",\n",
    "                  plot_bgcolor = \"rgba(0, 0, 0, 0)\"\n",
    "                 )\n",
    "fig.show()\n",
    "\n",
    "fig.write_image(os.path.join(results_dir, 'Crashes Over Time by Operator Type (Military vs Commercial vs Unknown).jpg'))\n",
    "fig.write_image(os.path.join(results_dir, 'Crashes Over Time by Operator Type (Military vs Commercial vs Unknown).png'))\n",
    "fig.write_html(os.path.join(results_dir, 'Crashes Over Time by Operator Type (Military vs Commercial vs Unknown).html'))"
   ]
  },
  {
   "cell_type": "markdown",
   "id": "0cbee507-c3f1-4d47-9757-e0fb6f21c2b7",
   "metadata": {},
   "source": [
    "This cell generates a stacked bar chart showing the number of air crashes per year, categorized by `Operator Type` (Military, Unknown, Commercial).\n",
    "\n",
    "**Data Preparation:**\n",
    "- `df_operator_yearly = df.groupby(['Year', 'Operator Type']).size().unstack(fill_value=0).reset_index()`:\n",
    "    - Groups the DataFrame by `Year` and `Operator Type`.\n",
    "    - `size()`: Counts the number of crashes for each group.\n",
    "    - `unstack(fill_value=0)`: Pivots the `Operator Type` to become columns, with crash counts as values. `fill_value=0` ensures that years with no crashes for a specific operator type are filled with 0 instead of NaN.\n",
    "    - `reset_index()`: Converts the grouped result back into a DataFrame with `Year` as a regular column.\n",
    "\n",
    "**Plotly Bar Chart (`px.bar`):**\n",
    "- `px.bar(df_operator_yearly, x='Year', y=df_operator_yearly.columns[1:], ...)`:\n",
    "    - `x='Year'`: Sets the x-axis to represent the year.\n",
    "    - `y=df_operator_yearly.columns[1:]`: Uses all columns from the second onward (i.e., 'Commercial', 'Military', 'Unknown') as the y-values for stacking.\n",
    "    - `title`: Sets the chart title.\n",
    "    - `labels`: Customizes axis labels for better readability.\n",
    "    - `color_discrete_sequence`: Defines the colors for each operator type.\n",
    "    - `template='plotly_white'`: Applies a clean white background theme.\n",
    "\n",
    "**Layout Updates:**\n",
    "- `fig.update_layout(...)`: Further customizes the layout.\n",
    "    - `barmode='stack'`: Ensures the bars are stacked.\n",
    "    - `xaxis_title_standoff`: Adds padding to the x-axis title.\n",
    "    - `paper_bgcolor`, `plot_bgcolor`: Sets transparent backgrounds.\n",
    "    - `xaxis.rangeslider.visible=True`: Adds a range slider to the x-axis, allowing interactive zooming and panning over the years.\n",
    "\n",
    "**Interpretation of the Graph:**\n",
    "This stacked bar chart illustrates the distribution of air crashes by operator type over time:\n",
    "- **Early Aviation (Pre-1940s):** Crashes are relatively few, and the \"Unknown\" category is quite prominent, likely due to less comprehensive record-keeping or varied definitions of operators. Military crashes also occur, reflecting early military aviation.\n",
    "- **World War II Era (1940s-1945):** There's a sharp increase in military aviation crashes, peaking around 1944-1945. This is expected, as military operations significantly increased during this period, leading to more incidents. Commercial crashes remain relatively low during this time.\n",
    "- **Post-WWII to Mid-20th Century (1946-1970s):** Commercial aviation crashes begin to rise and eventually surpass military crashes, reflecting the growth of commercial air travel. Military crashes decline significantly after WWII but still occur. The \"Unknown\" category generally decreases as data collection improves.\n",
    "- **Late 20th to Early 21st Century (1980s-Present):** There's a noticeable trend of decreasing total crashes, particularly in commercial aviation, despite the massive increase in air traffic. This suggests significant improvements in aircraft technology, safety regulations, and operational procedures. Military crashes remain at a lower, more consistent level compared to the war era. The \"Unknown\" category becomes minimal, indicating better data classification.\n",
    "\n",
    "**Overall Trend:** The graph clearly shows a shift from military-dominated incidents in the early years to commercial aviation, followed by a remarkable overall decline in crashes, highlighting the continuous improvements in aviation safety over the decades.\n",
    "\n",
    "**Saving the Figure:**\n",
    "The graph is saved in JPG, PNG, and HTML formats, making it easy to share and embed."
   ]
  },
  {
   "cell_type": "markdown",
   "id": "b56de0a7-fb00-455e-97f5-7b20fc2120a5",
   "metadata": {},
   "source": [
    "### Exploring Unique Operator Types\n",
    "\n",
    "To understand the variety of organizations involved in aircraft operations, we use:"
   ]
  },
  {
   "cell_type": "code",
   "execution_count": null,
   "id": "1f8010d7-6f56-4195-a64b-3fe5a95e7412",
   "metadata": {},
   "outputs": [],
   "source": [
    "df['Operator'].unique()"
   ]
  },
  {
   "cell_type": "markdown",
   "id": "11dbf1a3-a5f5-4246-b4d4-1af3d3843b8b",
   "metadata": {},
   "source": [
    "## Top Aircraft Types Involved in Crashes\r\n",
    "\r\n",
    "This plot shows the aircraft models or types that have been involved in the most crashes. By analyzing this, we can identify which aircraft types appear most frequently in crash data, which may indicate their prevalence or highlight safety concerns.\r\n",
    "\r\n",
    "Since there are many aircraft types, we limit the plot to toe t0p 15 most frequent types to keep it readable.\r\n"
   ]
  },
  {
   "cell_type": "markdown",
   "id": "b1f5f54d-c3c6-4afd-b7cf-cea73c1092a2",
   "metadata": {},
   "source": [
    "Identify Top Aircrafts:\n",
    "\n",
    "top_aircrafts = df['Aircraft'].value_counts().nlargest(10).index:\n",
    "df['Aircraft'].value_counts(): Counts the occurrences of each unique aircraft type in the 'Aircraft' column, sorting them in descending order (most frequent first).\n",
    ".nlargest(10): Selects the top 10 most frequent aircraft types.\n",
    "\n",
    ".index: Extracts just the names (indices) of these top 10 aircraft types.\n",
    "\n",
    "Filter DataFrame:\n",
    "top_aircrafts_df = df[df['Aircraft'].isin(top_aircrafts)]: Creates a new DataFrame top_aircrafts_df containing only the rows (crashes) that involve one of the identified top 10 aircraft types.\n",
    "\n",
    "Aggregate Data:\n",
    "agg_data = top_aircrafts_df.groupby('Aircraft').agg(...): Groups the filtered DataFrame by Aircraft type to perform aggregations.\n",
    "crash_count=('Aircraft', 'size'): Counts the number of crashes for each aircraft type.\n",
    "total_fatalities=('Sum of Fatalities (air)', 'sum'): Sums the 'Sum of Fatalities (air)' for each aircraft type.\n",
    ".reset_index(): Converts the grouped result back into a regular DataFrame.\n",
    "Plotly Bar Chart Creation (px.bar):\n",
    "agg_data.sort_values('crash_count'): Ensures the bars in the chart are sorted by crash_count in ascending order, so the smallest bar is at the bottom and the largest at the top.\n",
    "x='crash_count', y='Aircraft': Sets the x-axis to the number of crashes and the y-axis to the aircraft type.\n",
    "orientation='h': Creates a horizontal bar chart.\n",
    "title='Top 10 Aircraft Types Involved in Crashes with Fatalities': Sets the main title of the chart.\n",
    "template='presentation': Applies a clean, presentable Plotly theme.\n",
    "height=600: Sets the height of the plot.\n",
    "hover_data={'crash_count': True, 'total_fatalities': True}: Configures the information displayed when hovering over a bar, showing both the number of crashes and total fatalities.\n",
    "labels: Customizes the axis labels for better readability.\n",
    "Layout Updates (fig.update_layout):\n",
    "Sets descriptive titles for the x and y axes.\n",
    "margin=dict(l=280): Adjusts the left margin to ensure long aircraft names are fully visible.\n",
    "xaxis_title_standoff, paper_bgcolor, plot_bgcolor: Further aesthetic adjustments for spacing and transparent backgrounds.\n",
    "Save:\n",
    "fig.show(): Displays the interactive Plotly figure directly in the notebook output.\n",
    "fig.write_image(...) and fig.write_html(...): Saves the figure as static JPG/PNG images and an interactive HTML file to the results_dir."
   ]
  },
  {
   "cell_type": "code",
   "execution_count": null,
   "id": "b08207be-2a7a-4d14-8698-4ea3eb8b914c",
   "metadata": {},
   "outputs": [],
   "source": [
    "top_aircrafts = df['Aircraft'].value_counts().nlargest(10).index\n",
    "top_aircrafts_df = df[df['Aircraft'].isin(top_aircrafts)]\n",
    "\n",
    "# Aggregate total crashes and total fatalities per aircraft\n",
    "agg_data = top_aircrafts_df.groupby('Aircraft').agg(\n",
    "    crash_count=('Aircraft', 'size'),\n",
    "    total_fatalities=('Sum of Fatalities (air)', 'sum')\n",
    ").reset_index()\n",
    "\n",
    "# plot\n",
    "fig = px.bar(\n",
    "    agg_data.sort_values('crash_count'),\n",
    "    x='crash_count',\n",
    "    y='Aircraft',\n",
    "    orientation='h',\n",
    "    title='Top 10 Aircraft Types Involved in Crashes with Fatalities',\n",
    "    template='presentation',\n",
    "    height=600,\n",
    "    hover_data={\n",
    "        'crash_count': True,\n",
    "        'total_fatalities': True\n",
    "    },\n",
    "    labels={\n",
    "        'crash_count': 'Number of Crashes',\n",
    "        'total_fatalities': 'Total Fatalities'\n",
    "    }\n",
    ")\n",
    "\n",
    "fig.update_layout(\n",
    "    yaxis_title='Aircraft Type',\n",
    "    xaxis_title='Number of Crashes',\n",
    ")\n",
    "fig.update_layout(\n",
    "    yaxis_title='Aircraft Type',\n",
    "    xaxis_title='Number of Crashes',\n",
    "    margin=dict(l=280) \n",
    ")\n",
    "fig.update_layout(template = \"presentation\",xaxis_title=\"Number of Crashes\",\n",
    "                  yaxis_title=\"Aircraft Type\",\n",
    "                  xaxis_title_standoff=50,\n",
    "                  paper_bgcolor = \"rgba(0, 0, 0, 0)\",\n",
    "                  plot_bgcolor = \"rgba(0, 0, 0, 0)\"\n",
    "                 )\n",
    "fig.show()\n",
    "\n",
    "fig.write_image(os.path.join(results_dir, 'Top 10 Aircraft Types Involved in Crashes with Fatalities.jpg'))\n",
    "fig.write_image(os.path.join(results_dir, 'Top 10 Aircraft Types Involved in Crashes with Fatalities.png'))\n",
    "fig.write_html(os.path.join(results_dir, 'Top 10 Aircraft Types Involved in Crashes with Fatalities.html'))"
   ]
  },
  {
   "cell_type": "markdown",
   "id": "2a70653b-4d46-483e-8a8b-606226edf60f",
   "metadata": {},
   "source": [
    "This horizontal bar chart vividly illustrates the top 10 aircraft types that have been involved in the most air crashes in the dataset, along with the total fatalities associated with each:\n",
    "\n",
    "Dominance of Historical Workhorses: The chart clearly shows that the Douglas DC-3 and its military variant, the Douglas C-47, are by far the most frequently crashed aircraft types. This is not necessarily an indictment of their safety design but rather a direct reflection of their unparalleled production numbers and decades of widespread use across both civilian and military aviation globally. They were the \"workhorses\" of their era, leading to higher exposure to incidents over time.\n",
    "\n",
    "\"Unknown\" as a Significant Category: The \"Unknown\" aircraft type still represents a notable number of crashes, indicating incomplete data for a segment of historical incidents.\n",
    "\n",
    "Other Legacy Aircraft: The chart includes other aircraft that were highly prevalent in earlier eras, such as the Junkers Ju 52 and various Boeing B-17s, B-29s (primarily military bombers) and B-24s, further emphasizing the historical nature of the dataset.\n",
    "\n",
    "Modern Jet Involvement: The presence of the Boeing 737 indicates that even highly successful and widely operated modern jetliners will accumulate a certain number of incidents over their long service lives due to sheer flight volume.\n",
    "\n",
    "Fatalities Correlation: When hovering over the bars, the total_fatalities data will likely show a direct correlation with the crash_count. Aircraft with more crashes generally also have a higher cumulative number of fatalities, which is expected given the high lethality of air crashes."
   ]
  },
  {
   "cell_type": "markdown",
   "id": "c7399c1f-e065-4510-9e2d-91cb8e7f7c86",
   "metadata": {},
   "source": [
    "## Aircraft Manufacturers Breakdown\n",
    "\r\n",
    "This chart visualizes the distribution of crashes by aircraft manufacturers\n",
    ". It helps identify which manufacturers’ planes have been involved in the most incident.\r\n",
    "\r\n",
    "Understanding this breakdown provides insight into industry trends and potential manufacturer-specific safety pattens.\r\n"
   ]
  },
  {
   "cell_type": "markdown",
   "id": "0414d4ef-560f-4bda-8673-39d7d3fd11f1",
   "metadata": {},
   "source": [
    "This cell focuses on the aircraft manufacturers to identify and visualize the top 10 manufacturers whose aircraft have been involved in the highest number of crashes. It also aggregates the total fatalities associated with these manufacturers, providing a dual perspective of crash frequency and severity."
   ]
  },
  {
   "cell_type": "code",
   "execution_count": null,
   "id": "83e14b51-3d1b-4b18-9139-a5be229bfeaa",
   "metadata": {},
   "outputs": [],
   "source": [
    "top_makers = df['Aircraft Manufacturer'].value_counts().nlargest(10).index\n",
    "\n",
    "top_makers_df = df[df['Aircraft Manufacturer'].isin(top_makers)]\n",
    "agg_manufacturer = top_makers_df.groupby('Aircraft Manufacturer').agg(\n",
    "    crash_count=('Aircraft Manufacturer', 'size'),\n",
    "    total_fatalities=('Sum of Fatalities (air)', 'sum')\n",
    ").reset_index()\n",
    "\n",
    "\n",
    "fig = px.bar(\n",
    "    agg_manufacturer.sort_values('crash_count'),\n",
    "    x='crash_count',\n",
    "    y='Aircraft Manufacturer',\n",
    "    orientation='h',\n",
    "    title='Top 10 Aircraft Manufacturers by Number of Crashes',\n",
    "    template='presentation',\n",
    "    height=600,\n",
    "    hover_data={\n",
    "        'crash_count': True,\n",
    "        'total_fatalities': True\n",
    "    },\n",
    "    labels={\n",
    "        'crash_count': 'Number of Crashes',\n",
    "        'total_fatalities': 'Total Fatalities',\n",
    "        'Aircraft Manufacturer': 'Manufacturer'\n",
    "    }\n",
    ")\n",
    "\n",
    "\n",
    "fig.update_layout(\n",
    "    yaxis_title='Manufacturer',\n",
    "    xaxis_title='Number of Crashes',\n",
    "    margin=dict(l=220) \n",
    ")\n",
    "fig.update_layout(template = \"presentation\",xaxis_title=\"Number of Crashes\",\n",
    "                  yaxis_title=\"Manufacturer\",\n",
    "                  xaxis_title_standoff=50,\n",
    "                  paper_bgcolor = \"rgba(0, 0, 0, 0)\",\n",
    "                  plot_bgcolor = \"rgba(0, 0, 0, 0)\"\n",
    "                 )\n",
    "fig.show()\n",
    "\n",
    "fig.write_image(os.path.join(results_dir, 'Top 10 Aircraft Manufacturers by Number of Crashes.jpg'))\n",
    "fig.write_image(os.path.join(results_dir, 'Top 10 Aircraft Manufacturers by Number of Crashes.png'))\n",
    "fig.write_html(os.path.join(results_dir, 'Top 10 Aircraft Manufacturers by Number of Crashes.html'))\n"
   ]
  },
  {
   "cell_type": "markdown",
   "id": "c7c7ffe1-ac8d-4f88-9968-0813e2111d6f",
   "metadata": {},
   "source": [
    "This horizontal bar chart visually presents the top 10 aircraft manufacturers ranked by the number of crashes their aircraft have been involved in:\n",
    "\"Douglas\" Manufacturer Dominance: The most striking feature is the overwhelming number of crashes categorized under \"Douglas\". With 995 crashes, this category significantly dwarfs all other identified manufacturers.\n",
    "Douglas Manufacturers Lead Among Identified Entries: Among the identified manufacturers, Douglas leads with 995 crashes, followed by Boeing with 407 crashes. These high numbers are primarily a consequence of their historical dominance and prolific production. Both companies have manufactured vast numbers of aircraft over many decades, including during periods of less stringent safety regulations."
   ]
  },
  {
   "cell_type": "markdown",
   "id": "3f319eef-c5c0-4a9f-942e-764886c8424a",
   "metadata": {},
   "source": [
    "## Fatalities vs Aircraft Types (Top 10 by Fatalities)\r\n",
    "\r\n",
    "This bar chart highlights the top 10 aircraft types that have caused the highest number of fatalities in crashes.\r\n",
    "\r\n",
    "By focusing on fatality counts rather than just crash counts, we better understand which aircraft models have been involved in the deadliest incidents.\r\n"
   ]
  },
  {
   "cell_type": "code",
   "execution_count": null,
   "id": "2d257242-6644-49a0-b9a8-44754bfc9ea4",
   "metadata": {},
   "outputs": [],
   "source": [
    "fatalities_by_aircraft = df.groupby('Aircraft').agg(\n",
    "    total_fatalities=('Sum of Fatalities (air)', 'sum'),\n",
    "    crash_count=('Aircraft', 'size')\n",
    ").reset_index()\n",
    "\n",
    "\n",
    "top_fatal_aircraft = fatalities_by_aircraft.nlargest(10, 'total_fatalities')\n",
    "\n",
    "\n",
    "fig = px.bar(\n",
    "    top_fatal_aircraft.sort_values('total_fatalities'),\n",
    "    x='total_fatalities',\n",
    "    y='Aircraft',\n",
    "    orientation='h',\n",
    "    title='Top 10 Aircraft Types by Total Fatalities',\n",
    "    template='presentation',\n",
    "    height=600,\n",
    "    hover_data={\n",
    "        'crash_count': True,\n",
    "        'total_fatalities': True\n",
    "    },\n",
    "    labels={\n",
    "        'total_fatalities': 'Total Fatalities',\n",
    "        'crash_count': 'Number of Crashes',\n",
    "        'Aircraft': 'Aircraft Type'\n",
    "    }\n",
    ")\n",
    "\n",
    "\n",
    "fig.update_layout(\n",
    "    yaxis_title='Aircraft Type',\n",
    "    xaxis_title='Total Fatalities',\n",
    "    margin=dict(l=280)\n",
    ")\n",
    "fig.update_layout(template = \"presentation\",xaxis_title=\"Total Fatalities\",\n",
    "                  yaxis_title=\"Aircraft Type\",\n",
    "                  xaxis_title_standoff=50,\n",
    "                  paper_bgcolor = \"rgba(0, 0, 0, 0)\",\n",
    "                  plot_bgcolor = \"rgba(0, 0, 0, 0)\"\n",
    "                 )\n",
    "fig.show()\n",
    "fig.write_image(os.path.join(results_dir, 'Top 10 Aircraft Types by Total Fatalities.jpg'))\n",
    "fig.write_image(os.path.join(results_dir, 'Top 10 Aircraft Types by Total Fatalities.png'))\n",
    "fig.write_html(os.path.join(results_dir, 'Top 10 Aircraft Types by Total Fatalities.html'))\n"
   ]
  },
  {
   "cell_type": "markdown",
   "id": "1870ad4b-483a-4f5d-8634-3dba36f2c16a",
   "metadata": {},
   "source": [
    "This plot shows that Boeing B 727 and Boeing B 727 have the highest number of crashes among identified manufacturers, largely due to their long history and vast production. A significant portion of crashes are also attributed to an \"Unknown\" manufacturer, highlighting data gaps."
   ]
  },
  {
   "cell_type": "markdown",
   "id": "ee0e1633-a78a-437c-a919-3819d625dc43",
   "metadata": {},
   "source": [
    "### Map of crash locations"
   ]
  },
  {
   "cell_type": "code",
   "execution_count": null,
   "id": "d76b6fb6-2219-4868-886b-77bae289170b",
   "metadata": {
    "scrolled": true
   },
   "outputs": [],
   "source": [
    "import json\n",
    "\n",
    "# Load the cached geocoding from notebooks folder\n",
    "with open('geocoded_locations.json', 'r') as f:\n",
    "    location_coords = json.load(f)\n",
    "\n",
    "df['Latitude'] = df['Location'].map(lambda x: location_coords.get(x, {}).get('lat'))\n",
    "df['Longitude'] = df['Location'].map(lambda x: location_coords.get(x, {}).get('lon'))\n",
    "df['Geo Status'] = df['Latitude'].apply(lambda x: 'Unknown' if pd.isna(x) else 'Geocoded')\n",
    "\n",
    "df['Geo Status'] = df['Latitude'].apply(lambda x: 'Unknown' if pd.isna(x) else 'Geocoded')\n",
    "df['Geo Status'].value_counts()"
   ]
  },
  {
   "cell_type": "markdown",
   "id": "399e013f-ae69-4523-b20e-c49f4ab2047e",
   "metadata": {},
   "source": [
    "## Map of Crash Locations\n",
    "This interactive map shows the geographical locations of aircraft crashes worldwide."
   ]
  },
  {
   "cell_type": "code",
   "execution_count": null,
   "id": "476e29c1-bb0f-4633-a152-d18c1a2d1a59",
   "metadata": {
    "scrolled": true
   },
   "outputs": [],
   "source": [
    "map_df = df.dropna(subset=['Latitude', 'Longitude'])\n",
    "\n",
    "fig = px.scatter_geo(\n",
    "    map_df,\n",
    "    lat='Latitude',\n",
    "    lon='Longitude',\n",
    "    hover_name='Aircraft',\n",
    "    hover_data={\n",
    "        'Year': True,\n",
    "        'Operator': True,\n",
    "        'Sum of Fatalities (air)': True\n",
    "    },\n",
    "    color='Sum of Fatalities (air)',\n",
    "    size='Sum of Fatalities (air)',\n",
    "    projection='natural earth',\n",
    "    title='Aircrash Locations with Fatalities',\n",
    "    template='presentation',\n",
    "    height=700\n",
    ")\n",
    "\n",
    "fig.update_layout(\n",
    "    paper_bgcolor=\"rgba(0,0,0,0)\",\n",
    "    plot_bgcolor=\"rgba(0,0,0,0)\",\n",
    "    geo=dict(\n",
    "        bgcolor='rgba(0,0,0,0)'\n",
    "    ),\n",
    "    title_font=dict(size=20),\n",
    "    margin=dict(l=0, r=0, t=50, b=0)\n",
    ")\n",
    "fig.show()\n",
    "fig.write_image(os.path.join(results_dir, 'Aircrash Locations with Fatalities.jpg'))\n",
    "fig.write_image(os.path.join(results_dir, 'Aircrash Locations with Fatalities.png'))\n",
    "fig.write_html(os.path.join(results_dir, 'Aircrash Locations with Fatalities.html'))"
   ]
  },
  {
   "cell_type": "markdown",
   "id": "96fabd11-36cf-4ada-a200-3319f6549523",
   "metadata": {},
   "source": [
    "global map shows air crash locations. The size and color of each point indicate the number of fatalities, with larger, brighter points representing more severe crashes. North America and Europe show a high density of incidents."
   ]
  },
  {
   "cell_type": "markdown",
   "id": "db114c02-288e-4e01-8f57-3019661dba2a",
   "metadata": {},
   "source": [
    "## Crashes by Continent or Region\r\n",
    "\r\n",
    "This plot breaks down the number of crashes across different continents or regions.\r\n",
    "\r\n",
    "It provides a high-level view of where most crashes occur, which may relate to factors like air traffic volume, infrastructure, or regional safety regulations.\r\n"
   ]
  },
  {
   "cell_type": "code",
   "execution_count": null,
   "id": "bd43a58f-14c9-4c43-b293-abdadf3603b7",
   "metadata": {},
   "outputs": [],
   "source": [
    "import pycountry_convert as pc\n",
    "import pycountry\n",
    "\n",
    "def get_continent(country_name):\n",
    "    try:\n",
    "\n",
    "        if country_name.lower() == 'united states':\n",
    "            country_name = 'United States of America'\n",
    "        if country_name.lower() == 'uk':\n",
    "            country_name = 'United Kingdom'\n",
    "\n",
    "        country_code = pycountry.countries.lookup(country_name).alpha_2\n",
    "        continent_code = pc.country_alpha2_to_continent_code(country_code)\n",
    "\n",
    "        continent_name = {\n",
    "            'NA': 'North America',\n",
    "            'SA': 'South America',\n",
    "            'AS': 'Asia',\n",
    "            'AF': 'Africa',\n",
    "            'OC': 'Oceania',\n",
    "            'EU': 'Europe',\n",
    "            'AN': 'Antarctica'\n",
    "        }[continent_code]\n",
    "\n",
    "        return continent_name\n",
    "    except:\n",
    "        return 'Unknown'\n"
   ]
  },
  {
   "cell_type": "code",
   "execution_count": null,
   "id": "694cf3b4-eb50-4d3f-a98f-63e59a27d381",
   "metadata": {},
   "outputs": [],
   "source": [
    "df['Continent'] = df['Country/Region'].apply(get_continent)\n"
   ]
  },
  {
   "cell_type": "code",
   "execution_count": null,
   "id": "56352a38-c465-4ffe-8bc9-e4478057b6b8",
   "metadata": {},
   "outputs": [],
   "source": [
    "# plot\n",
    "import plotly.express as px\n",
    "\n",
    "continent_counts = df['Continent'].value_counts().reset_index()\n",
    "continent_counts.columns = ['Continent', 'Crash Count']\n",
    "\n",
    "fig = px.bar(\n",
    "    continent_counts,\n",
    "    x='Crash Count',\n",
    "    y='Continent',\n",
    "    orientation='h',\n",
    "    title='Number of Crashes by Continent',\n",
    "    template='presentation',\n",
    "\n",
    "    height=500\n",
    ")\n",
    "\n",
    "fig.update_layout(\n",
    "    margin=dict(l=180)\n",
    ")\n",
    "\n",
    "fig.update_layout(template = \"presentation\",xaxis_title=\"Number of Crashes\",\n",
    "                  yaxis_title=\"Continent\",\n",
    "                  xaxis_title_standoff=50,\n",
    "                  paper_bgcolor = \"rgba(0, 0, 0, 0)\",\n",
    "                  plot_bgcolor = \"rgba(0, 0, 0, 0)\"\n",
    "                 )\n",
    "fig.show()\n",
    "fig.write_image(os.path.join(results_dir, 'Number of Crashes by Continent.jpg'))\n",
    "fig.write_image(os.path.join(results_dir, 'Number of Crashes by Continent.png'))\n",
    "fig.write_html(os.path.join(results_dir, 'Number of Crashes by Continent.html'))"
   ]
  },
  {
   "cell_type": "markdown",
   "id": "5d9888bb-478c-4d63-80a1-b8d522a44f9e",
   "metadata": {},
   "source": [
    "### Heatmap of Aircrashes per Country"
   ]
  },
  {
   "cell_type": "code",
   "execution_count": null,
   "id": "b08c1e9d-b365-4c37-8068-7c3f70cb03a3",
   "metadata": {},
   "outputs": [],
   "source": [
    "# Group by country and count crashes\n",
    "crash_counts = df.groupby('Country/Region').size().reset_index(name='Crashes')\n",
    "\n",
    "# Choropleth heatmap\n",
    "fig = px.choropleth(\n",
    "    crash_counts,\n",
    "    locations='Country/Region',\n",
    "    locationmode='country names',\n",
    "    color='Crashes',\n",
    "    color_continuous_scale='Reds',\n",
    "    title='Heatmap of Aircrashes per Country',\n",
    "    template='presentation',\n",
    ")\n",
    "\n",
    "fig.update_layout(\n",
    "    paper_bgcolor=\"rgba(0,0,0,0)\",\n",
    "    plot_bgcolor=\"rgba(0,0,0,0)\",\n",
    "    geo=dict(\n",
    "        bgcolor='rgba(0,0,0,0)'\n",
    "    ),\n",
    "    title_font=dict(size=20),\n",
    "    margin=dict(l=0, r=0, t=50, b=0)\n",
    ")\n",
    "fig.show()\n",
    "fig.write_image(os.path.join(results_dir, 'Heatmap of Aircrashes per Country.jpg'))\n",
    "fig.write_image(os.path.join(results_dir, 'Heatmap of Aircrashes per Country.png'))\n",
    "fig.write_html(os.path.join(results_dir, 'Heatmap of Aircrashes per Country.html'))"
   ]
  },
  {
   "cell_type": "markdown",
   "id": "6c189ea3-f045-4f5d-8f58-b1c00915bdec",
   "metadata": {},
   "source": [
    "## Fatalities by Continent\r\n",
    "\r\n",
    "This chart shows the total fatalities caused by crashes within each continent.\r\n",
    "\r\n",
    "It highlights regions with the deadliest crashes and can be compared with crash counts to analyze severity differences.\r\n"
   ]
  },
  {
   "cell_type": "code",
   "execution_count": null,
   "id": "b9f57455-b257-4e74-958b-8f1005598041",
   "metadata": {},
   "outputs": [],
   "source": [
    "fatalities_by_continent = df.groupby('Continent')['Sum of Fatalities (air)'].sum().reset_index()\n",
    "fatalities_by_continent.columns = ['Continent', 'Total Fatalities']\n",
    "fatalities_by_continent = fatalities_by_continent.sort_values('Total Fatalities', ascending=False)\n"
   ]
  },
  {
   "cell_type": "code",
   "execution_count": null,
   "id": "f17180d6-265c-4034-a2ef-56719e4c1456",
   "metadata": {},
   "outputs": [],
   "source": [
    "import plotly.express as px\n",
    "\n",
    "fig = px.bar(\n",
    "    fatalities_by_continent,\n",
    "    x='Total Fatalities',\n",
    "    y='Continent',\n",
    "    orientation='h',\n",
    "    title='Total Fatalities by Continent',\n",
    "    template='presentation',\n",
    "     color_discrete_sequence= px.colors.sequential.RdBu,\n",
    "    height=500\n",
    ")\n",
    "\n",
    "fig.update_layout(\n",
    "    margin=dict(l=190)\n",
    ")\n",
    "\n",
    "fig.update_layout(template = \"presentation\",xaxis_title=\"Total Fatalities\",\n",
    "                  yaxis_title=\"Continent\",\n",
    "                  xaxis_title_standoff=50,\n",
    "                  paper_bgcolor = \"rgba(0, 0, 0, 0)\",\n",
    "                  plot_bgcolor = \"rgba(0, 0, 0, 0)\"\n",
    "                 )\n",
    "fig.show()\n",
    "fig.write_image(os.path.join(results_dir, 'Total Fatalities by Continent.jpg'))\n",
    "fig.write_image(os.path.join(results_dir, 'Total Fatalities by Continent.png'))\n",
    "fig.write_html(os.path.join(results_dir, 'Total Fatalities by Continent.html'))"
   ]
  },
  {
   "cell_type": "markdown",
   "id": "22dd79ab-cc1b-4233-81f8-8e4fcec4a408",
   "metadata": {},
   "source": [
    "## Crashes by Operator Type\r\n",
    "\r\n",
    "This bar chart compares the number of crashes involving military, commercial, and unknown operators.\r\n",
    "\r\n",
    "It helps understand how crash frequencies vary across these operator categories.\r\n"
   ]
  },
  {
   "cell_type": "code",
   "execution_count": null,
   "id": "96437c2d-ea96-4799-a143-645075ce720c",
   "metadata": {},
   "outputs": [],
   "source": [
    "operator_counts = df['Operator Type'].value_counts().reset_index()\n",
    "operator_counts.columns = ['Operator Type', 'Crash Count']\n",
    "\n",
    "fig = px.bar(\n",
    "    operator_counts,\n",
    "    x='Crash Count',\n",
    "    y='Operator Type',\n",
    "    orientation='h',\n",
    "    title='Crashes by Operator Type',\n",
    "    template='presentation',\n",
    "    color='Operator Type',\n",
    "    color_discrete_map={\n",
    "        'Military': 'indianred',\n",
    "        'Commercial': 'royalblue',\n",
    "        'Unknown': 'gray'\n",
    "    },\n",
    "    height=400\n",
    ")\n",
    "\n",
    "fig.update_layout(\n",
    "    margin=dict(l=150)\n",
    ")\n",
    "\n",
    "fig.update_layout(template = \"presentation\",xaxis_title=\"Number of Crashes\",\n",
    "                  yaxis_title=\"Operator Type\",\n",
    "                  xaxis_title_standoff=50,\n",
    "                  paper_bgcolor = \"rgba(0, 0, 0, 0)\",\n",
    "                  plot_bgcolor = \"rgba(0, 0, 0, 0)\"\n",
    "                 )\n",
    "fig.show()\n",
    "fig.write_image(os.path.join(results_dir, 'Crashes by Operator Type.jpg'))\n",
    "fig.write_image(os.path.join(results_dir, 'Crashes by Operator Type.png'))\n",
    "fig.write_html(os.path.join(results_dir, 'Crashes by Operator Type.html'))"
   ]
  },
  {
   "cell_type": "markdown",
   "id": "35b6733d-3c51-41bc-bd7c-e66d21984bf8",
   "metadata": {},
   "source": [
    "## Fatalities per Operator Type\r\n",
    "\r\n",
    "Here, we analyze fatalities associated with each operator category.\r\n",
    "\r\n",
    "This reveals which operator types are linked to more severe crash outcomes.\r\n"
   ]
  },
  {
   "cell_type": "code",
   "execution_count": 6,
   "id": "4570a2e4-0252-45c0-bdd1-9233b57ff657",
   "metadata": {},
   "outputs": [
    {
     "ename": "KeyError",
     "evalue": "'Operator Type'",
     "output_type": "error",
     "traceback": [
      "\u001b[1;31m---------------------------------------------------------------------------\u001b[0m",
      "\u001b[1;31mKeyError\u001b[0m                                  Traceback (most recent call last)",
      "Cell \u001b[1;32mIn[6], line 1\u001b[0m\n\u001b[1;32m----> 1\u001b[0m fatalities_by_operator \u001b[38;5;241m=\u001b[39m df\u001b[38;5;241m.\u001b[39mgroupby(\u001b[38;5;124m'\u001b[39m\u001b[38;5;124mOperator Type\u001b[39m\u001b[38;5;124m'\u001b[39m)[\u001b[38;5;124m'\u001b[39m\u001b[38;5;124mSum of Fatalities (air)\u001b[39m\u001b[38;5;124m'\u001b[39m]\u001b[38;5;241m.\u001b[39msum()\u001b[38;5;241m.\u001b[39mreset_index()\n\u001b[0;32m      2\u001b[0m fatalities_by_operator\u001b[38;5;241m.\u001b[39mcolumns \u001b[38;5;241m=\u001b[39m [\u001b[38;5;124m'\u001b[39m\u001b[38;5;124mOperator Type\u001b[39m\u001b[38;5;124m'\u001b[39m, \u001b[38;5;124m'\u001b[39m\u001b[38;5;124mTotal Fatalities\u001b[39m\u001b[38;5;124m'\u001b[39m]\n\u001b[0;32m      3\u001b[0m fatalities_by_operator \u001b[38;5;241m=\u001b[39m fatalities_by_operator\u001b[38;5;241m.\u001b[39msort_values(\u001b[38;5;124m'\u001b[39m\u001b[38;5;124mTotal Fatalities\u001b[39m\u001b[38;5;124m'\u001b[39m, ascending\u001b[38;5;241m=\u001b[39m\u001b[38;5;28;01mFalse\u001b[39;00m)\n",
      "File \u001b[1;32m~\\anaconda3\\Lib\\site-packages\\pandas\\core\\frame.py:8869\u001b[0m, in \u001b[0;36mDataFrame.groupby\u001b[1;34m(self, by, axis, level, as_index, sort, group_keys, observed, dropna)\u001b[0m\n\u001b[0;32m   8866\u001b[0m \u001b[38;5;28;01mif\u001b[39;00m level \u001b[38;5;129;01mis\u001b[39;00m \u001b[38;5;28;01mNone\u001b[39;00m \u001b[38;5;129;01mand\u001b[39;00m by \u001b[38;5;129;01mis\u001b[39;00m \u001b[38;5;28;01mNone\u001b[39;00m:\n\u001b[0;32m   8867\u001b[0m     \u001b[38;5;28;01mraise\u001b[39;00m \u001b[38;5;167;01mTypeError\u001b[39;00m(\u001b[38;5;124m\"\u001b[39m\u001b[38;5;124mYou have to supply one of \u001b[39m\u001b[38;5;124m'\u001b[39m\u001b[38;5;124mby\u001b[39m\u001b[38;5;124m'\u001b[39m\u001b[38;5;124m and \u001b[39m\u001b[38;5;124m'\u001b[39m\u001b[38;5;124mlevel\u001b[39m\u001b[38;5;124m'\u001b[39m\u001b[38;5;124m\"\u001b[39m)\n\u001b[1;32m-> 8869\u001b[0m \u001b[38;5;28;01mreturn\u001b[39;00m DataFrameGroupBy(\n\u001b[0;32m   8870\u001b[0m     obj\u001b[38;5;241m=\u001b[39m\u001b[38;5;28mself\u001b[39m,\n\u001b[0;32m   8871\u001b[0m     keys\u001b[38;5;241m=\u001b[39mby,\n\u001b[0;32m   8872\u001b[0m     axis\u001b[38;5;241m=\u001b[39maxis,\n\u001b[0;32m   8873\u001b[0m     level\u001b[38;5;241m=\u001b[39mlevel,\n\u001b[0;32m   8874\u001b[0m     as_index\u001b[38;5;241m=\u001b[39mas_index,\n\u001b[0;32m   8875\u001b[0m     sort\u001b[38;5;241m=\u001b[39msort,\n\u001b[0;32m   8876\u001b[0m     group_keys\u001b[38;5;241m=\u001b[39mgroup_keys,\n\u001b[0;32m   8877\u001b[0m     observed\u001b[38;5;241m=\u001b[39mobserved,\n\u001b[0;32m   8878\u001b[0m     dropna\u001b[38;5;241m=\u001b[39mdropna,\n\u001b[0;32m   8879\u001b[0m )\n",
      "File \u001b[1;32m~\\anaconda3\\Lib\\site-packages\\pandas\\core\\groupby\\groupby.py:1278\u001b[0m, in \u001b[0;36mGroupBy.__init__\u001b[1;34m(self, obj, keys, axis, level, grouper, exclusions, selection, as_index, sort, group_keys, observed, dropna)\u001b[0m\n\u001b[0;32m   1275\u001b[0m \u001b[38;5;28mself\u001b[39m\u001b[38;5;241m.\u001b[39mdropna \u001b[38;5;241m=\u001b[39m dropna\n\u001b[0;32m   1277\u001b[0m \u001b[38;5;28;01mif\u001b[39;00m grouper \u001b[38;5;129;01mis\u001b[39;00m \u001b[38;5;28;01mNone\u001b[39;00m:\n\u001b[1;32m-> 1278\u001b[0m     grouper, exclusions, obj \u001b[38;5;241m=\u001b[39m get_grouper(\n\u001b[0;32m   1279\u001b[0m         obj,\n\u001b[0;32m   1280\u001b[0m         keys,\n\u001b[0;32m   1281\u001b[0m         axis\u001b[38;5;241m=\u001b[39maxis,\n\u001b[0;32m   1282\u001b[0m         level\u001b[38;5;241m=\u001b[39mlevel,\n\u001b[0;32m   1283\u001b[0m         sort\u001b[38;5;241m=\u001b[39msort,\n\u001b[0;32m   1284\u001b[0m         observed\u001b[38;5;241m=\u001b[39m\u001b[38;5;28;01mFalse\u001b[39;00m \u001b[38;5;28;01mif\u001b[39;00m observed \u001b[38;5;129;01mis\u001b[39;00m lib\u001b[38;5;241m.\u001b[39mno_default \u001b[38;5;28;01melse\u001b[39;00m observed,\n\u001b[0;32m   1285\u001b[0m         dropna\u001b[38;5;241m=\u001b[39m\u001b[38;5;28mself\u001b[39m\u001b[38;5;241m.\u001b[39mdropna,\n\u001b[0;32m   1286\u001b[0m     )\n\u001b[0;32m   1288\u001b[0m \u001b[38;5;28;01mif\u001b[39;00m observed \u001b[38;5;129;01mis\u001b[39;00m lib\u001b[38;5;241m.\u001b[39mno_default:\n\u001b[0;32m   1289\u001b[0m     \u001b[38;5;28;01mif\u001b[39;00m \u001b[38;5;28many\u001b[39m(ping\u001b[38;5;241m.\u001b[39m_passed_categorical \u001b[38;5;28;01mfor\u001b[39;00m ping \u001b[38;5;129;01min\u001b[39;00m grouper\u001b[38;5;241m.\u001b[39mgroupings):\n",
      "File \u001b[1;32m~\\anaconda3\\Lib\\site-packages\\pandas\\core\\groupby\\grouper.py:1009\u001b[0m, in \u001b[0;36mget_grouper\u001b[1;34m(obj, key, axis, level, sort, observed, validate, dropna)\u001b[0m\n\u001b[0;32m   1007\u001b[0m         in_axis, level, gpr \u001b[38;5;241m=\u001b[39m \u001b[38;5;28;01mFalse\u001b[39;00m, gpr, \u001b[38;5;28;01mNone\u001b[39;00m\n\u001b[0;32m   1008\u001b[0m     \u001b[38;5;28;01melse\u001b[39;00m:\n\u001b[1;32m-> 1009\u001b[0m         \u001b[38;5;28;01mraise\u001b[39;00m \u001b[38;5;167;01mKeyError\u001b[39;00m(gpr)\n\u001b[0;32m   1010\u001b[0m \u001b[38;5;28;01melif\u001b[39;00m \u001b[38;5;28misinstance\u001b[39m(gpr, Grouper) \u001b[38;5;129;01mand\u001b[39;00m gpr\u001b[38;5;241m.\u001b[39mkey \u001b[38;5;129;01mis\u001b[39;00m \u001b[38;5;129;01mnot\u001b[39;00m \u001b[38;5;28;01mNone\u001b[39;00m:\n\u001b[0;32m   1011\u001b[0m     \u001b[38;5;66;03m# Add key to exclusions\u001b[39;00m\n\u001b[0;32m   1012\u001b[0m     exclusions\u001b[38;5;241m.\u001b[39madd(gpr\u001b[38;5;241m.\u001b[39mkey)\n",
      "\u001b[1;31mKeyError\u001b[0m: 'Operator Type'"
     ]
    }
   ],
   "source": [
    "fatalities_by_operator = df.groupby('Operator Type')['Sum of Fatalities (air)'].sum().reset_index()\n",
    "fatalities_by_operator.columns = ['Operator Type', 'Total Fatalities']\n",
    "fatalities_by_operator = fatalities_by_operator.sort_values('Total Fatalities', ascending=False)\n",
    "\n",
    "fig = px.bar(\n",
    "    fatalities_by_operator,\n",
    "    x='Total Fatalities',\n",
    "    y='Operator Type',\n",
    "    orientation='h',\n",
    "    title='Total Fatalities by Operator Type',\n",
    "    template='presentation',\n",
    "    color='Operator Type',\n",
    "    color_discrete_map={\n",
    "        'Military': 'indianred',\n",
    "        'Commercial': 'royalblue',\n",
    "        'Unknown': 'gray'\n",
    "    },\n",
    "    height=400\n",
    ")\n",
    "\n",
    "fig.update_layout(\n",
    "    margin=dict(l=150)\n",
    ")\n",
    "\n",
    "fig.update_layout(template = \"presentation\",xaxis_title=\"Total Fatalities\",\n",
    "                  yaxis_title=\"Operator Type\",\n",
    "                  xaxis_title_standoff=50,\n",
    "                  legend_title=dict(text=\"Operator Type\"),\n",
    "                  paper_bgcolor = \"rgba(0, 0, 0, 0)\",\n",
    "                  plot_bgcolor = \"rgba(0, 0, 0, 0)\"\n",
    "                 )\n",
    "fig.show()\n",
    "fig.write_image(os.path.join(results_dir, 'Crashes by Operator Type.jpg'))\n",
    "fig.write_image(os.path.join(results_dir, 'Crashes by Operator Type.png'))\n",
    "fig.write_html(os.path.join(results_dir, 'Crashes by Operator Type.html'))\n"
   ]
  },
  {
   "cell_type": "markdown",
   "id": "f2c6b9d6-0f3a-49ed-afdd-8929e8f59360",
   "metadata": {},
   "source": [
    "## Crashes Involving Ground Deaths\r\n",
    "\r\n",
    "Some crashes cause fatalities on the ground, which are rare but particularly tragic.\r\n",
    "\r\n",
    "This visualization highlights incidents where ground deaths occurred and helps understand their frequency and severity.\r\n"
   ]
  },
  {
   "cell_type": "code",
   "execution_count": null,
   "id": "cc55f577-d8b4-45db-b44e-a172d644da8d",
   "metadata": {},
   "outputs": [],
   "source": [
    "crashes_with_ground_deaths = df[df['Sum of Ground'] > 0].copy()\n",
    "total_ground_deaths = df['Sum of Ground'].sum()\n",
    "total_air_deaths = df['Sum of Fatalities (air)'].sum()\n",
    "\n",
    "\n",
    "top_ground_deaths = crashes_with_ground_deaths.sort_values('Sum of Ground', ascending=False).head(10)\n",
    "\n",
    "fig = px.bar(\n",
    "    top_ground_deaths,\n",
    "    x='Sum of Ground',\n",
    "    y='Location',\n",
    "    orientation='h',\n",
    "    title='Top 10 Crashes with Most Ground Fatalities',\n",
    "    template='presentation',\n",
    "    hover_data={\n",
    "        'Year': True,\n",
    "        'Aircraft': True,\n",
    "        'Operator': True,\n",
    "        'Sum of Fatalities (air)': True,\n",
    "        'Sum of Aboard': True\n",
    "    },\n",
    "    height=500\n",
    ")\n",
    "\n",
    "fig.update_layout(\n",
    "    margin=dict(l=280)\n",
    ")\n",
    "\n",
    "fig.update_layout(template = \"presentation\",xaxis_title=\"Ground Fatalities\",\n",
    "                  yaxis_title=\"Crash Location\",\n",
    "                  xaxis_title_standoff=50,\n",
    "                    paper_bgcolor = \"rgba(0, 0, 0, 0)\",\n",
    "                  plot_bgcolor = \"rgba(0, 0, 0, 0)\"\n",
    "                 )\n",
    "fig.show()\n",
    "fig.write_image(os.path.join(results_dir, 'Top 10 Crashes with Most Ground Fatalities.jpg'))\n",
    "fig.write_image(os.path.join(results_dir, 'Top 10 Crashes with Most Ground Fatalities.png'))\n",
    "fig.write_html(os.path.join(results_dir, 'Top 10 Crashes with Most Ground Fatalities.html'))\n"
   ]
  },
  {
   "cell_type": "markdown",
   "id": "6f928497-6737-4ddf-8f78-92f00454450f",
   "metadata": {},
   "source": [
    "## Most Deadly Incidents\r\n",
    "\r\n",
    "This chart lists the crashes with the highest total fatalities (airborne plus ground deaths).\r\n",
    "\r\n",
    "It provides a focused view on the worst air disasters and can help identify common factors in these extreme cases.\r\n"
   ]
  },
  {
   "cell_type": "code",
   "execution_count": null,
   "id": "240d8b7c-2f18-4567-847a-20b0cb2f26dd",
   "metadata": {},
   "outputs": [],
   "source": [
    "df['Total Fatalities'] = df['Sum of Fatalities (air)'] + df['Sum of Ground']\n",
    "top_deadly_crashes = df.sort_values('Total Fatalities', ascending=False).head(10)"
   ]
  },
  {
   "cell_type": "code",
   "execution_count": null,
   "id": "c9fd5435-2e5e-480c-94e0-f2889db71012",
   "metadata": {},
   "outputs": [],
   "source": [
    "import plotly.express as px\n",
    "\n",
    "fig = px.bar(\n",
    "    top_deadly_crashes,\n",
    "    x='Total Fatalities',\n",
    "    y='Location',\n",
    "    orientation='h',\n",
    "    title='Top 10 Most Deadly Aircrash Incidents',\n",
    "    template='presentation',\n",
    "    hover_data={\n",
    "        'Year': True,\n",
    "        'Aircraft': True,\n",
    "        'Operator': True,\n",
    "        'Sum of Fatalities (air)': True,\n",
    "        'Sum of Ground': True,\n",
    "        'Sum of Aboard': True\n",
    "    },\n",
    "    height=600\n",
    ")\n",
    "\n",
    "fig.update_layout(\n",
    "    margin=dict(l=290)\n",
    ")\n",
    "\n",
    "fig.update_layout(template = \"presentation\",xaxis_title=\"Total Fatalities (Air + Ground)\",\n",
    "                  yaxis_title=\"Crash Location\",\n",
    "                  xaxis_title_standoff=50,\n",
    "                    paper_bgcolor = \"rgba(0, 0, 0, 0)\",\n",
    "                  plot_bgcolor = \"rgba(0, 0, 0, 0)\"\n",
    "                 )\n",
    "fig.show()\n",
    "fig.write_image(os.path.join(results_dir, 'Top 10 Most Deadly Aircrash Incidents.jpg'))\n",
    "fig.write_image(os.path.join(results_dir, 'Top 10 Most Deadly Aircrash Incidents.png'))\n",
    "fig.write_html(os.path.join(results_dir, 'Top 10 Most Deadly Aircrash Incidents.html'))\n"
   ]
  },
  {
   "cell_type": "markdown",
   "id": "d76343fb-5eb1-42ee-922f-bb1d5ea98e4d",
   "metadata": {},
   "source": [
    "## 6. Survival Rate\n",
    "\n",
    "Understanding the survival rate is another critical aspect of air crash analysis. This metric highlights the effectiveness of safety measures and emergency procedures.\n",
    "ss.\r\n"
   ]
  },
  {
   "cell_type": "code",
   "execution_count": null,
   "id": "d5a33e2c-8a82-43c1-8e14-9af1b56e1ca9",
   "metadata": {},
   "outputs": [],
   "source": [
    "df['Survivors'] = df['Sum of Aboard'] - df['Sum of Fatalities (air)']\n",
    "df['Survival Rate (%)'] = (df['Survivors'] / df['Sum of Aboard']) * 100\n",
    "df = df[df['Sum of Aboard'] > 0]\n"
   ]
  },
  {
   "cell_type": "markdown",
   "id": "25b3452e-1b81-42a2-a13f-34e4e309d3e5",
   "metadata": {},
   "source": [
    "This cells we started by Summing the column called Sum of Aboard(people who were in plane) and also we find Sum for column called Sum Sum of Fatalities (air) people who dead in plane, so after haviing people who were in Plane and who dead in plane we can find people who surviced in that Aircrash  "
   ]
  },
  {
   "cell_type": "code",
   "execution_count": null,
   "id": "1044cddc-b809-470d-94a3-75d446faa169",
   "metadata": {},
   "outputs": [],
   "source": [
    "total_aboard = df['Sum of Aboard'].sum()\n",
    "total_fatalities = df['Sum of Fatalities (air)'].sum()\n",
    "total_survivors = total_aboard - total_fatalities"
   ]
  },
  {
   "cell_type": "code",
   "execution_count": null,
   "id": "ac4f3ef4-8cff-43bb-b49a-5c5af825db90",
   "metadata": {},
   "outputs": [],
   "source": [
    "# Group by Year and sum survivors and fatalities\n",
    "yearly_stats = df.groupby('Year').agg({\n",
    "    'Survivors': 'sum',\n",
    "    'Sum of Fatalities (air)': 'sum'\n",
    "}).reset_index()\n",
    "\n",
    "fig = go.Figure()\n",
    "\n",
    "fig.add_trace(go.Bar(\n",
    "    x=yearly_stats['Year'],\n",
    "    y=yearly_stats['Survivors'],\n",
    "    name='Survived',\n",
    "    marker_color='green'\n",
    "))\n",
    "\n",
    "fig.add_trace(go.Bar(\n",
    "    x=yearly_stats['Year'],\n",
    "    y=yearly_stats['Sum of Fatalities (air)'],\n",
    "    name='Fatalities',\n",
    "    marker_color='red'\n",
    "))\n",
    "\n",
    "fig.update_layout(\n",
    "    barmode='stack',\n",
    "    title='Survivors vs Fatalities by Year',\n",
    "    xaxis_title='Year',\n",
    "    yaxis_title='Number of People',\n",
    "    template='presentation',\n",
    "    height=500\n",
    ")\n",
    "fig.update_layout(\n",
    "    xaxis=dict(\n",
    "        title='Year',\n",
    "        rangeslider=dict(visible=True),\n",
    "        type='linear'\n",
    "    ),\n",
    "    yaxis_title='Number of People',\n",
    "    legend_title='People'\n",
    ")\n",
    "fig.update_layout(template = \"presentation\",xaxis_title=\"Year\",\n",
    "                  yaxis_title=\"Number of People\",\n",
    "                  xaxis_title_standoff=50,\n",
    "                  legend_title=dict(text=\"People\"),\n",
    "                  paper_bgcolor = \"rgba(0, 0, 0, 0)\",\n",
    "                  plot_bgcolor = \"rgba(0, 0, 0, 0)\"\n",
    "                 )\n",
    "fig.show()\n",
    "fig.write_image(os.path.join(results_dir, 'Survivors vs Fatalities by Year.jpg'))\n",
    "fig.write_image(os.path.join(results_dir, 'Survivors vs Fatalities by Year.png'))\n",
    "fig.write_html(os.path.join(results_dir, 'Survivors vs Fatalities by Year.html'))"
   ]
  },
  {
   "cell_type": "code",
   "execution_count": null,
   "id": "7594699c-db85-44f2-aa4a-1cc8a389bb35",
   "metadata": {},
   "outputs": [],
   "source": [
    "df = df.fillna('Unknown')\n",
    "df.isna().sum()"
   ]
  },
  {
   "cell_type": "code",
   "execution_count": null,
   "id": "37bd4ad5-abb4-4831-aae6-17d53af84ced",
   "metadata": {},
   "outputs": [],
   "source": [
    "# import ipywidgets as widgets\n",
    "# from IPython.display import display\n",
    "\n",
    "# df.loc[:, 'Year'] = pd.to_numeric(df['Year'], errors='coerce')\n",
    "# df = df.dropna(subset=['Year']) \n",
    "# df['Year'] = df['Year'].astype(int)\n",
    "\n",
    "\n",
    "# # Year slider (range)\n",
    "# year_slider = widgets.IntRangeSlider(\n",
    "#     value=[df['Year'].min(), df['Year'].max()],\n",
    "#     min=df['Year'].min(),\n",
    "#     max=df['Year'].max(),\n",
    "#     step=1,\n",
    "#     description='Year Range:',\n",
    "#     continuous_update=False,\n",
    "#     layout=widgets.Layout(width='80%')\n",
    "# )\n",
    "# # Region dropdown (multi-select)\n",
    "# region_dropdown = widgets.SelectMultiple(\n",
    "#     options=sorted(df['Location'].unique()),\n",
    "#     value=tuple(sorted(df['Location'].unique())),  # default all selected\n",
    "#     description='Region',\n",
    "#     disabled=False,\n",
    "#     layout=widgets.Layout(width='50%')\n",
    "# )\n",
    "\n",
    "# # Aircraft dropdown (multi-select)\n",
    "# aircraft_dropdown = widgets.SelectMultiple(\n",
    "#     options=sorted(df['Aircraft'].unique()),\n",
    "#     value=tuple(sorted(df['Aircraft'].unique())),  # default all selected\n",
    "#     description='Aircraft',\n",
    "#     disabled=False,\n",
    "#     layout=widgets.Layout(width='50%')\n",
    "# )\n",
    "\n",
    "# def update_plot(year_range, regions, aircrafts):\n",
    "#     # Filter dataframe based on widget selections\n",
    "#     filtered_df = df[\n",
    "#         (df['Year'] >= year_range[0]) & (df['Year'] <= year_range[1]) &\n",
    "#         (df['Location'].isin(regions)) &\n",
    "#         (df['Aircraft'].isin(aircrafts))\n",
    "#     ]\n",
    "    \n",
    "# out = widgets.interactive_output(\n",
    "#     update_plot,\n",
    "#     {\n",
    "#         'year_range': year_slider,\n",
    "#         'regions': region_dropdown,\n",
    "#         'aircrafts': aircraft_dropdown\n",
    "#     }\n",
    "# )\n",
    "\n",
    "# display(year_slider, region_dropdown, aircraft_dropdown, out)\n"
   ]
  },
  {
   "cell_type": "code",
   "execution_count": null,
   "id": "5ed8e687-c0cf-4e01-b208-abe79347cae4",
   "metadata": {},
   "outputs": [],
   "source": [
    "df"
   ]
  }
 ],
 "metadata": {
  "kernelspec": {
   "display_name": "Python 3 (ipykernel)",
   "language": "python",
   "name": "python3"
  },
  "language_info": {
   "codemirror_mode": {
    "name": "ipython",
    "version": 3
   },
   "file_extension": ".py",
   "mimetype": "text/x-python",
   "name": "python",
   "nbconvert_exporter": "python",
   "pygments_lexer": "ipython3",
   "version": "3.11.7"
  }
 },
 "nbformat": 4,
 "nbformat_minor": 5
}
